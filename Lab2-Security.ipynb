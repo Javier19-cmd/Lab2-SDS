{
 "cells": [
  {
   "cell_type": "markdown",
   "metadata": {},
   "source": [
    "Imports necesarios"
   ]
  },
  {
   "cell_type": "code",
   "execution_count": 42,
   "metadata": {},
   "outputs": [],
   "source": [
    "import pandas as pd\n",
    "import unicodedata\n",
    "import contractions\n",
    "import nltk\n",
    "from nltk.corpus import stopwords\n",
    "import re\n",
    "from nltk.tokenize import word_tokenize\n",
    "from nltk.stem import PorterStemmer\n",
    "from sklearn.feature_extraction.text import CountVectorizer, TfidfVectorizer\n",
    "from sklearn.model_selection import train_test_split\n",
    "from sklearn.ensemble import RandomForestClassifier\n",
    "from sklearn.metrics import confusion_matrix, precision_score, recall_score, roc_curve, roc_auc_score, accuracy_score\n",
    "import matplotlib.pyplot as plt\n",
    "from sklearn.linear_model import LinearRegression"
   ]
  },
  {
   "cell_type": "code",
   "execution_count": 3,
   "metadata": {},
   "outputs": [],
   "source": [
    "df = pd.read_csv('spam.csv', encoding='latin-1')"
   ]
  },
  {
   "cell_type": "code",
   "execution_count": 4,
   "metadata": {},
   "outputs": [],
   "source": [
    "df\n",
    "\n",
    "#df = df.drop(['Unnamed: 2', 'Unnamed: 3', 'Unnamed: 4'], axis=1)\n",
    "\n",
    "if \"Unnamed: 2\" in df.columns:\n",
    "    df = df.drop(['Unnamed: 2'], axis=1)\n",
    "\n",
    "if \"Unnamed: 3\" in df.columns:\n",
    "    df = df.drop(['Unnamed: 3'], axis=1)\n",
    "\n",
    "if \"Unnamed: 4\" in df.columns:\n",
    "    df = df.drop(['Unnamed: 4'], axis=1)\n",
    "    \n",
    "\n",
    "new_csv_path = './new_dataset.csv'\n",
    "df.to_csv(new_csv_path, index=False)"
   ]
  },
  {
   "cell_type": "markdown",
   "metadata": {},
   "source": [
    "Convirtiendo de mayúsculas a minúsculas"
   ]
  },
  {
   "cell_type": "code",
   "execution_count": 5,
   "metadata": {},
   "outputs": [],
   "source": [
    "df['v1'] = df['v1'].str.lower()\n",
    "df['v2'] = df['v2'].str.lower()\n",
    "\n",
    "#df = df.drop(['Unnamed: 2', 'Unnamed: 3', 'Unnamed: 4'], axis=1)\n",
    "\n",
    "if \"Unnamed: 2\" in df.columns:\n",
    "    df = df.drop(['Unnamed: 2'], axis=1)\n",
    "\n",
    "if \"Unnamed: 3\" in df.columns:\n",
    "    df = df.drop(['Unnamed: 3'], axis=1)\n",
    "\n",
    "if \"Unnamed: 4\" in df.columns:\n",
    "    df = df.drop(['Unnamed: 4'], axis=1)\n",
    "\n",
    "df\n",
    "\n",
    "new_csv_path = './new_dataset.csv'\n",
    "df.to_csv(new_csv_path, index=False)"
   ]
  },
  {
   "cell_type": "markdown",
   "metadata": {},
   "source": [
    "Quitando abreviaciones de las oraciones."
   ]
  },
  {
   "cell_type": "code",
   "execution_count": 6,
   "metadata": {},
   "outputs": [
    {
     "data": {
      "text/html": [
       "<div>\n",
       "<style scoped>\n",
       "    .dataframe tbody tr th:only-of-type {\n",
       "        vertical-align: middle;\n",
       "    }\n",
       "\n",
       "    .dataframe tbody tr th {\n",
       "        vertical-align: top;\n",
       "    }\n",
       "\n",
       "    .dataframe thead th {\n",
       "        text-align: right;\n",
       "    }\n",
       "</style>\n",
       "<table border=\"1\" class=\"dataframe\">\n",
       "  <thead>\n",
       "    <tr style=\"text-align: right;\">\n",
       "      <th></th>\n",
       "      <th>v1</th>\n",
       "      <th>v2</th>\n",
       "    </tr>\n",
       "  </thead>\n",
       "  <tbody>\n",
       "    <tr>\n",
       "      <th>0</th>\n",
       "      <td>ham</td>\n",
       "      <td>go until jurong point, crazy.. available only ...</td>\n",
       "    </tr>\n",
       "    <tr>\n",
       "      <th>1</th>\n",
       "      <td>ham</td>\n",
       "      <td>ok lar... joking wif you oni...</td>\n",
       "    </tr>\n",
       "    <tr>\n",
       "      <th>2</th>\n",
       "      <td>spam</td>\n",
       "      <td>free entry in 2 a wkly comp to win fa cup fina...</td>\n",
       "    </tr>\n",
       "    <tr>\n",
       "      <th>3</th>\n",
       "      <td>ham</td>\n",
       "      <td>you dun say so early hor... you c already then...</td>\n",
       "    </tr>\n",
       "    <tr>\n",
       "      <th>4</th>\n",
       "      <td>ham</td>\n",
       "      <td>nah i do not think he goes to usf, he lives ar...</td>\n",
       "    </tr>\n",
       "    <tr>\n",
       "      <th>...</th>\n",
       "      <td>...</td>\n",
       "      <td>...</td>\n",
       "    </tr>\n",
       "    <tr>\n",
       "      <th>5567</th>\n",
       "      <td>spam</td>\n",
       "      <td>this is the 2nd time we have tried 2 contact y...</td>\n",
       "    </tr>\n",
       "    <tr>\n",
       "      <th>5568</th>\n",
       "      <td>ham</td>\n",
       "      <td>will ì_ b going to esplanade fr home?</td>\n",
       "    </tr>\n",
       "    <tr>\n",
       "      <th>5569</th>\n",
       "      <td>ham</td>\n",
       "      <td>pity, * was in mood for that. so...any other s...</td>\n",
       "    </tr>\n",
       "    <tr>\n",
       "      <th>5570</th>\n",
       "      <td>ham</td>\n",
       "      <td>the guy did some bitching but i acted like i w...</td>\n",
       "    </tr>\n",
       "    <tr>\n",
       "      <th>5571</th>\n",
       "      <td>ham</td>\n",
       "      <td>rofl. its true to its name</td>\n",
       "    </tr>\n",
       "  </tbody>\n",
       "</table>\n",
       "<p>5572 rows × 2 columns</p>\n",
       "</div>"
      ],
      "text/plain": [
       "        v1                                                 v2\n",
       "0      ham  go until jurong point, crazy.. available only ...\n",
       "1      ham                    ok lar... joking wif you oni...\n",
       "2     spam  free entry in 2 a wkly comp to win fa cup fina...\n",
       "3      ham  you dun say so early hor... you c already then...\n",
       "4      ham  nah i do not think he goes to usf, he lives ar...\n",
       "...    ...                                                ...\n",
       "5567  spam  this is the 2nd time we have tried 2 contact y...\n",
       "5568   ham              will ì_ b going to esplanade fr home?\n",
       "5569   ham  pity, * was in mood for that. so...any other s...\n",
       "5570   ham  the guy did some bitching but i acted like i w...\n",
       "5571   ham                         rofl. its true to its name\n",
       "\n",
       "[5572 rows x 2 columns]"
      ]
     },
     "execution_count": 6,
     "metadata": {},
     "output_type": "execute_result"
    }
   ],
   "source": [
    "# Expandiendo las contracciones en la columna 'v2'\n",
    "df['v2'] = df['v2'].apply(lambda x: ' '.join([contractions.fix(word) for word in x.split()]))\n",
    "\n",
    "new_csv_path = './new_dataset.csv'\n",
    "df.to_csv(new_csv_path, index=False)\n",
    "\n",
    "df"
   ]
  },
  {
   "cell_type": "markdown",
   "metadata": {},
   "source": [
    "Quitando acentos de las oraciones"
   ]
  },
  {
   "cell_type": "code",
   "execution_count": 7,
   "metadata": {},
   "outputs": [],
   "source": [
    "def removerAcentos(texto):\n",
    "    texto = unicodedata.normalize('NFKD', texto).encode('ascii','ignore').decode('utf-8','ignore')\n",
    "    return texto\n",
    "\n",
    "df['v2'] = df['v2'].apply(removerAcentos)\n",
    "\n",
    "new_csv_path = './new_dataset.csv'\n",
    "df.to_csv(new_csv_path, index=False)"
   ]
  },
  {
   "cell_type": "markdown",
   "metadata": {},
   "source": [
    "Eliminando los stopwords"
   ]
  },
  {
   "cell_type": "code",
   "execution_count": 8,
   "metadata": {},
   "outputs": [
    {
     "name": "stderr",
     "output_type": "stream",
     "text": [
      "[nltk_data] Downloading package stopwords to\n",
      "[nltk_data]     C:\\Users\\sebas\\AppData\\Roaming\\nltk_data...\n",
      "[nltk_data]   Package stopwords is already up-to-date!\n"
     ]
    },
    {
     "data": {
      "text/html": [
       "<div>\n",
       "<style scoped>\n",
       "    .dataframe tbody tr th:only-of-type {\n",
       "        vertical-align: middle;\n",
       "    }\n",
       "\n",
       "    .dataframe tbody tr th {\n",
       "        vertical-align: top;\n",
       "    }\n",
       "\n",
       "    .dataframe thead th {\n",
       "        text-align: right;\n",
       "    }\n",
       "</style>\n",
       "<table border=\"1\" class=\"dataframe\">\n",
       "  <thead>\n",
       "    <tr style=\"text-align: right;\">\n",
       "      <th></th>\n",
       "      <th>v1</th>\n",
       "      <th>v2</th>\n",
       "    </tr>\n",
       "  </thead>\n",
       "  <tbody>\n",
       "    <tr>\n",
       "      <th>0</th>\n",
       "      <td>ham</td>\n",
       "      <td>go jurong point, crazy.. available bugis n gre...</td>\n",
       "    </tr>\n",
       "    <tr>\n",
       "      <th>1</th>\n",
       "      <td>ham</td>\n",
       "      <td>ok lar... joking wif oni...</td>\n",
       "    </tr>\n",
       "    <tr>\n",
       "      <th>2</th>\n",
       "      <td>spam</td>\n",
       "      <td>free entry 2 wkly comp win fa cup final tkts 2...</td>\n",
       "    </tr>\n",
       "    <tr>\n",
       "      <th>3</th>\n",
       "      <td>ham</td>\n",
       "      <td>dun say early hor... c already say...</td>\n",
       "    </tr>\n",
       "    <tr>\n",
       "      <th>4</th>\n",
       "      <td>ham</td>\n",
       "      <td>nah think goes usf, lives around though</td>\n",
       "    </tr>\n",
       "    <tr>\n",
       "      <th>...</th>\n",
       "      <td>...</td>\n",
       "      <td>...</td>\n",
       "    </tr>\n",
       "    <tr>\n",
       "      <th>5567</th>\n",
       "      <td>spam</td>\n",
       "      <td>2nd time tried 2 contact you. a750 pound prize...</td>\n",
       "    </tr>\n",
       "    <tr>\n",
       "      <th>5568</th>\n",
       "      <td>ham</td>\n",
       "      <td>i_ b going esplanade fr home?</td>\n",
       "    </tr>\n",
       "    <tr>\n",
       "      <th>5569</th>\n",
       "      <td>ham</td>\n",
       "      <td>pity, * mood that. so...any suggestions?</td>\n",
       "    </tr>\n",
       "    <tr>\n",
       "      <th>5570</th>\n",
       "      <td>ham</td>\n",
       "      <td>guy bitching acted like would interested buyin...</td>\n",
       "    </tr>\n",
       "    <tr>\n",
       "      <th>5571</th>\n",
       "      <td>ham</td>\n",
       "      <td>rofl. true name</td>\n",
       "    </tr>\n",
       "  </tbody>\n",
       "</table>\n",
       "<p>5572 rows × 2 columns</p>\n",
       "</div>"
      ],
      "text/plain": [
       "        v1                                                 v2\n",
       "0      ham  go jurong point, crazy.. available bugis n gre...\n",
       "1      ham                        ok lar... joking wif oni...\n",
       "2     spam  free entry 2 wkly comp win fa cup final tkts 2...\n",
       "3      ham              dun say early hor... c already say...\n",
       "4      ham            nah think goes usf, lives around though\n",
       "...    ...                                                ...\n",
       "5567  spam  2nd time tried 2 contact you. a750 pound prize...\n",
       "5568   ham                      i_ b going esplanade fr home?\n",
       "5569   ham           pity, * mood that. so...any suggestions?\n",
       "5570   ham  guy bitching acted like would interested buyin...\n",
       "5571   ham                                    rofl. true name\n",
       "\n",
       "[5572 rows x 2 columns]"
      ]
     },
     "execution_count": 8,
     "metadata": {},
     "output_type": "execute_result"
    }
   ],
   "source": [
    "nltk.download('stopwords')\n",
    "\n",
    "# Definiendo la lista de stopwords en inglés\n",
    "stop_words = set(stopwords.words('english'))\n",
    "\n",
    "def remove_stopwords(text):\n",
    "    tokens = text.split()\n",
    "    filtered_tokens = [word for word in tokens if word.lower() not in stop_words]\n",
    "    return ' '.join(filtered_tokens)\n",
    "\n",
    "df['v2'] = df['v2'].apply(remove_stopwords)\n",
    "\n",
    "new_csv_path = './new_dataset.csv'\n",
    "df.to_csv(new_csv_path, index=False)\n",
    "\n",
    "df"
   ]
  },
  {
   "cell_type": "markdown",
   "metadata": {},
   "source": [
    "Eliminando caracteres especiales"
   ]
  },
  {
   "cell_type": "code",
   "execution_count": 9,
   "metadata": {},
   "outputs": [
    {
     "data": {
      "text/html": [
       "<div>\n",
       "<style scoped>\n",
       "    .dataframe tbody tr th:only-of-type {\n",
       "        vertical-align: middle;\n",
       "    }\n",
       "\n",
       "    .dataframe tbody tr th {\n",
       "        vertical-align: top;\n",
       "    }\n",
       "\n",
       "    .dataframe thead th {\n",
       "        text-align: right;\n",
       "    }\n",
       "</style>\n",
       "<table border=\"1\" class=\"dataframe\">\n",
       "  <thead>\n",
       "    <tr style=\"text-align: right;\">\n",
       "      <th></th>\n",
       "      <th>v1</th>\n",
       "      <th>v2</th>\n",
       "    </tr>\n",
       "  </thead>\n",
       "  <tbody>\n",
       "    <tr>\n",
       "      <th>0</th>\n",
       "      <td>ham</td>\n",
       "      <td>go jurong point crazy available bugis n great ...</td>\n",
       "    </tr>\n",
       "    <tr>\n",
       "      <th>1</th>\n",
       "      <td>ham</td>\n",
       "      <td>ok lar joking wif oni</td>\n",
       "    </tr>\n",
       "    <tr>\n",
       "      <th>2</th>\n",
       "      <td>spam</td>\n",
       "      <td>free entry 2 wkly comp win fa cup final tkts 2...</td>\n",
       "    </tr>\n",
       "    <tr>\n",
       "      <th>3</th>\n",
       "      <td>ham</td>\n",
       "      <td>dun say early hor c already say</td>\n",
       "    </tr>\n",
       "    <tr>\n",
       "      <th>4</th>\n",
       "      <td>ham</td>\n",
       "      <td>nah think goes usf lives around though</td>\n",
       "    </tr>\n",
       "    <tr>\n",
       "      <th>...</th>\n",
       "      <td>...</td>\n",
       "      <td>...</td>\n",
       "    </tr>\n",
       "    <tr>\n",
       "      <th>5567</th>\n",
       "      <td>spam</td>\n",
       "      <td>2nd time tried 2 contact you a750 pound prize ...</td>\n",
       "    </tr>\n",
       "    <tr>\n",
       "      <th>5568</th>\n",
       "      <td>ham</td>\n",
       "      <td>i b going esplanade fr home</td>\n",
       "    </tr>\n",
       "    <tr>\n",
       "      <th>5569</th>\n",
       "      <td>ham</td>\n",
       "      <td>pity  mood that soany suggestions</td>\n",
       "    </tr>\n",
       "    <tr>\n",
       "      <th>5570</th>\n",
       "      <td>ham</td>\n",
       "      <td>guy bitching acted like would interested buyin...</td>\n",
       "    </tr>\n",
       "    <tr>\n",
       "      <th>5571</th>\n",
       "      <td>ham</td>\n",
       "      <td>rofl true name</td>\n",
       "    </tr>\n",
       "  </tbody>\n",
       "</table>\n",
       "<p>5572 rows × 2 columns</p>\n",
       "</div>"
      ],
      "text/plain": [
       "        v1                                                 v2\n",
       "0      ham  go jurong point crazy available bugis n great ...\n",
       "1      ham                              ok lar joking wif oni\n",
       "2     spam  free entry 2 wkly comp win fa cup final tkts 2...\n",
       "3      ham                    dun say early hor c already say\n",
       "4      ham             nah think goes usf lives around though\n",
       "...    ...                                                ...\n",
       "5567  spam  2nd time tried 2 contact you a750 pound prize ...\n",
       "5568   ham                        i b going esplanade fr home\n",
       "5569   ham                  pity  mood that soany suggestions\n",
       "5570   ham  guy bitching acted like would interested buyin...\n",
       "5571   ham                                     rofl true name\n",
       "\n",
       "[5572 rows x 2 columns]"
      ]
     },
     "execution_count": 9,
     "metadata": {},
     "output_type": "execute_result"
    }
   ],
   "source": [
    "def removerCaracteresEspecialesNumerosSimbolos(texto, removerDigitos=False):\n",
    "    patron = r'[^a-zA-Z0-9\\s]' if not removerDigitos else r'[^a-zA-Z\\s]'\n",
    "    texto = re.sub(patron, '', texto)\n",
    "    return texto\n",
    "\n",
    "def aplicar_removerCaracteresEspeciales(df, columna, removerDigitos=False):\n",
    "    df[columna] = df[columna].apply(lambda x: removerCaracteresEspecialesNumerosSimbolos(x, removerDigitos))\n",
    "    return df\n",
    "\n",
    "df = aplicar_removerCaracteresEspeciales(df, 'v2')\n",
    "\n",
    "new_csv_path = './new_dataset.csv'\n",
    "df.to_csv(new_csv_path, index=False)\n",
    "\n",
    "df"
   ]
  },
  {
   "cell_type": "markdown",
   "metadata": {},
   "source": [
    "Generando otras características en el dataset"
   ]
  },
  {
   "cell_type": "markdown",
   "metadata": {},
   "source": [
    "Calculando la puntuación"
   ]
  },
  {
   "cell_type": "code",
   "execution_count": 10,
   "metadata": {},
   "outputs": [],
   "source": [
    "# def calculate_feature(text):\n",
    "#     punctuation_count = sum(1 for char in text if char in string.punctuation)\n",
    "#     if len(text) == 0:\n",
    "#         return 0\n",
    "#     return punctuation_count / len(text)\n",
    "\n",
    "# # Aplicar la función al conjunto de datos\n",
    "# df['Punctuation_Count/char_count'] = df['v2'].apply(calculate_feature)\n",
    "\n",
    "# new_csv_path = './new_dataset.csv'\n",
    "# df.to_csv(new_csv_path, index=False)\n",
    "# df"
   ]
  },
  {
   "cell_type": "markdown",
   "metadata": {},
   "source": [
    "Stopwords únicos"
   ]
  },
  {
   "cell_type": "code",
   "execution_count": 11,
   "metadata": {},
   "outputs": [],
   "source": [
    "# # Definiendo las palabras de parada en inglés\n",
    "# stop_words = set(stopwords.words('english'))\n",
    "\n",
    "# # Función para calcular la característica\n",
    "# def calculate_feature(text):\n",
    "#     words = word_tokenize(text)\n",
    "#     if len(words) == 0:\n",
    "#         return 0\n",
    "#     unique_stopwords = len(set(w for w in words if w in stop_words))\n",
    "#     return unique_stopwords / len(words)\n",
    "\n",
    "# # Aplicar la función al conjunto de datos\n",
    "# df['Unique_Stopword_Count/word_count'] = df['v2'].apply(calculate_feature)\n",
    "\n",
    "# new_csv_path = './new_dataset.csv'\n",
    "# df.to_csv(new_csv_path, index=False)"
   ]
  },
  {
   "cell_type": "markdown",
   "metadata": {},
   "source": [
    "Conteo de palabras"
   ]
  },
  {
   "cell_type": "code",
   "execution_count": 12,
   "metadata": {},
   "outputs": [],
   "source": [
    "# # Función para calcular la característica\n",
    "# def calculate_feature(text):\n",
    "#     punctuation_count = sum(1 for char in text if char in string.punctuation and char != \"'\")\n",
    "#     return punctuation_count\n",
    "\n",
    "# df['Punctuation_Count'] = df['v2'].apply(calculate_feature)\n",
    "\n",
    "# new_csv_path = './new_dataset.csv'\n",
    "# df.to_csv(new_csv_path, index=False)"
   ]
  },
  {
   "cell_type": "markdown",
   "metadata": {},
   "source": [
    "Stopwords en cara a las palabras únicas de los mensajes"
   ]
  },
  {
   "cell_type": "code",
   "execution_count": 13,
   "metadata": {},
   "outputs": [],
   "source": [
    "# # Definir las palabras de parada en inglés\n",
    "# stop_words = set(stopwords.words('english'))\n",
    "\n",
    "# # Función para calcular la característica\n",
    "# def calculate_feature(text):\n",
    "#     words = word_tokenize(text)\n",
    "#     stopword_count = len([w for w in words if w in stop_words])\n",
    "#     unique_word_count = len(set(words))\n",
    "#     if unique_word_count == 0:\n",
    "#         return 0\n",
    "#     return stopword_count / unique_word_count\n",
    "\n",
    "# # Aplicar la función al conjunto de datos\n",
    "# df['Stopword_Count/Unique_Word_Count'] = df['v2'].apply(calculate_feature)\n",
    "\n",
    "# new_csv_path = './new_dataset.csv'\n",
    "# df.to_csv(new_csv_path, index=False)"
   ]
  },
  {
   "cell_type": "markdown",
   "metadata": {},
   "source": [
    "Stopwords únicas "
   ]
  },
  {
   "cell_type": "code",
   "execution_count": 14,
   "metadata": {},
   "outputs": [],
   "source": [
    "stop_words = set(stopwords.words('english'))\n",
    "\n",
    "def calculate_feature(text):\n",
    "    words = word_tokenize(text)\n",
    "    unique_stopwords = len(set(w for w in words if w in stop_words))\n",
    "    return unique_stopwords\n",
    "\n",
    "df['Unique_Stopword_Count'] = df['v2'].apply(calculate_feature)\n",
    "\n",
    "new_csv_path = './new_dataset.csv'\n",
    "df.to_csv(new_csv_path, index=False)"
   ]
  },
  {
   "cell_type": "markdown",
   "metadata": {},
   "source": [
    "Cantidad de palabras"
   ]
  },
  {
   "cell_type": "code",
   "execution_count": 15,
   "metadata": {},
   "outputs": [],
   "source": [
    "def calculate_feature(text):\n",
    "    words = word_tokenize(text)\n",
    "    return len(words)\n",
    "\n",
    "df['Word_Count'] = df['v2'].apply(calculate_feature)\n",
    "\n",
    "new_csv_path = './new_dataset.csv'\n",
    "df.to_csv(new_csv_path, index=False)"
   ]
  },
  {
   "cell_type": "markdown",
   "metadata": {},
   "source": [
    "Stopword count"
   ]
  },
  {
   "cell_type": "code",
   "execution_count": 16,
   "metadata": {},
   "outputs": [],
   "source": [
    "stop_words = set(stopwords.words('english'))\n",
    "\n",
    "def calculate_feature(text):\n",
    "    words = word_tokenize(text)\n",
    "    stopword_count = len([w for w in words if w in stop_words])\n",
    "    return stopword_count\n",
    "\n",
    "df['Stopword_Count'] = df['v2'].apply(calculate_feature)\n",
    "\n",
    "new_csv_path = './new_dataset.csv'\n",
    "df.to_csv(new_csv_path, index=False)"
   ]
  },
  {
   "cell_type": "markdown",
   "metadata": {},
   "source": [
    "Stem count"
   ]
  },
  {
   "cell_type": "code",
   "execution_count": 17,
   "metadata": {},
   "outputs": [],
   "source": [
    "# Inicializar el stemmer\n",
    "stemmer = PorterStemmer()\n",
    "\n",
    "def calculate_feature(text):\n",
    "    words = word_tokenize(text)\n",
    "    stems = [stemmer.stem(word) for word in words]\n",
    "    unique_stems = len(set(stems))\n",
    "    return unique_stems\n",
    "\n",
    "df['Unique_Stem_Count'] = df['v2'].apply(calculate_feature)\n",
    "\n",
    "new_csv_path = './new_dataset.csv'\n",
    "df.to_csv(new_csv_path, index=False)"
   ]
  },
  {
   "cell_type": "markdown",
   "metadata": {},
   "source": [
    "Palabras únicas"
   ]
  },
  {
   "cell_type": "code",
   "execution_count": 18,
   "metadata": {},
   "outputs": [],
   "source": [
    "def calculate_feature(text):\n",
    "    words = word_tokenize(text)\n",
    "    unique_words = len(set(words))\n",
    "    return unique_words\n",
    "\n",
    "df['Unique_Word_Count'] = df['v2'].apply(calculate_feature)\n",
    "\n",
    "new_csv_path = './new_dataset.csv'\n",
    "df.to_csv(new_csv_path, index=False)"
   ]
  },
  {
   "cell_type": "markdown",
   "metadata": {},
   "source": [
    "Palabras únicas en cara al conteo de palabras"
   ]
  },
  {
   "cell_type": "code",
   "execution_count": 19,
   "metadata": {},
   "outputs": [],
   "source": [
    "def calculate_feature(text):\n",
    "    words = word_tokenize(text)\n",
    "    unique_words = len(set(words))\n",
    "    if len(words) == 0:\n",
    "        return 0\n",
    "    return unique_words / len(words)\n",
    "\n",
    "df['Unique_Word_Count/Word_Count'] = df['v2'].apply(calculate_feature)\n",
    "\n",
    "new_csv_path = './new_dataset.csv'\n",
    "df.to_csv(new_csv_path, index=False)"
   ]
  },
  {
   "cell_type": "markdown",
   "metadata": {},
   "source": [
    "Modelos BoG y TF-IDF"
   ]
  },
  {
   "cell_type": "markdown",
   "metadata": {},
   "source": [
    "Primer modelo"
   ]
  },
  {
   "cell_type": "markdown",
   "metadata": {},
   "source": [
    "BoG"
   ]
  },
  {
   "cell_type": "code",
   "execution_count": 20,
   "metadata": {},
   "outputs": [
    {
     "name": "stdout",
     "output_type": "stream",
     "text": [
      "Ejemplos de mensajes en representación BoG (n=1):\n",
      "Mensaje 1:\n",
      "  (0, 3550)\t1\n",
      "  (0, 8030)\t1\n",
      "  (0, 4350)\t1\n",
      "  (0, 5920)\t1\n",
      "  (0, 2327)\t1\n",
      "  (0, 1303)\t1\n",
      "  (0, 5537)\t1\n",
      "  (0, 4087)\t1\n",
      "  (0, 1751)\t1\n",
      "  (0, 3634)\t1\n",
      "  (0, 8489)\t1\n",
      "  (0, 4476)\t1\n",
      "  (0, 1749)\t1\n",
      "  (0, 2048)\t1\n",
      "  (0, 7645)\t1\n",
      "  (0, 3594)\t1\n",
      "  (0, 1069)\t1\n",
      "  (0, 8267)\t1\n",
      "\n",
      "Mensaje 2:\n",
      "  (0, 5504)\t1\n",
      "  (0, 4512)\t1\n",
      "  (0, 4318)\t1\n",
      "  (0, 8392)\t1\n",
      "  (0, 5533)\t1\n",
      "\n",
      "Mensaje 3:\n",
      "  (0, 4087)\t1\n",
      "  (0, 3358)\t1\n",
      "  (0, 2949)\t2\n",
      "  (0, 8447)\t1\n",
      "  (0, 2165)\t1\n",
      "  (0, 7756)\t3\n",
      "  (0, 8405)\t1\n",
      "  (0, 3087)\t2\n",
      "  (0, 2386)\t1\n",
      "  (0, 3207)\t1\n",
      "  (0, 7743)\t1\n",
      "  (0, 411)\t1\n",
      "  (0, 4930)\t1\n",
      "  (0, 402)\t1\n",
      "  (0, 7595)\t1\n",
      "  (0, 784)\t1\n",
      "  (0, 6297)\t1\n",
      "  (0, 6190)\t1\n",
      "  (0, 7230)\t1\n",
      "  (0, 7933)\t1\n",
      "  (0, 6242)\t1\n",
      "  (0, 1156)\t1\n",
      "  (0, 77)\t1\n",
      "\n"
     ]
    }
   ],
   "source": [
    "data = pd.read_csv('spam.csv', encoding='latin-1')\n",
    "\n",
    "messages = data[\"v2\"].tolist()\n",
    "\n",
    "# BoG con n=1\n",
    "vectorizer_bog_1 = CountVectorizer()\n",
    "bog_1_matrix = vectorizer_bog_1.fit_transform(messages)\n",
    "bog_1_features = vectorizer_bog_1.get_feature_names_out()\n",
    "\n",
    "\n",
    "# Ejemplos de mensajes en representación BoG (n=1)\n",
    "print(\"Ejemplos de mensajes en representación BoG (n=1):\")\n",
    "for i in range(3):\n",
    "    print(f\"Mensaje {i + 1}:\")\n",
    "    print(bog_1_matrix[i])\n",
    "    print()"
   ]
  },
  {
   "cell_type": "code",
   "execution_count": 30,
   "metadata": {},
   "outputs": [
    {
     "name": "stdout",
     "output_type": "stream",
     "text": [
      "5572\n",
      "Ejemplos de mensajes en representación BoG (n=2):\n",
      "Mensaje 1:\n",
      "  (0, 13507)\t1\n",
      "  (0, 36719)\t1\n",
      "  (0, 18446)\t1\n",
      "  (0, 27343)\t1\n",
      "  (0, 8361)\t1\n",
      "  (0, 4094)\t1\n",
      "  (0, 25625)\t1\n",
      "  (0, 16874)\t1\n",
      "  (0, 5782)\t1\n",
      "  (0, 14105)\t1\n",
      "  (0, 39933)\t1\n",
      "  (0, 19050)\t1\n",
      "  (0, 5778)\t1\n",
      "  (0, 7414)\t1\n",
      "  (0, 34180)\t1\n",
      "  (0, 13835)\t1\n",
      "  (0, 2345)\t1\n",
      "\n",
      "Mensaje 2:\n",
      "  (0, 25061)\t1\n",
      "  (0, 19132)\t1\n",
      "  (0, 18398)\t1\n",
      "  (0, 39137)\t1\n",
      "\n",
      "Mensaje 3:\n",
      "  (0, 12328)\t1\n",
      "  (0, 10753)\t1\n",
      "  (0, 17164)\t1\n",
      "  (0, 39667)\t1\n",
      "  (0, 7885)\t1\n",
      "  (0, 35678)\t1\n",
      "  (0, 39332)\t1\n",
      "  (0, 11169)\t1\n",
      "  (0, 8479)\t1\n",
      "  (0, 11548)\t1\n",
      "  (0, 35046)\t1\n",
      "  (0, 576)\t1\n",
      "  (0, 21018)\t1\n",
      "  (0, 560)\t1\n",
      "  (0, 32820)\t1\n",
      "  (0, 11170)\t1\n",
      "  (0, 35148)\t1\n",
      "  (0, 1133)\t1\n",
      "  (0, 35519)\t1\n",
      "  (0, 28398)\t1\n",
      "  (0, 10756)\t1\n",
      "  (0, 27940)\t1\n",
      "  (0, 31758)\t1\n",
      "  (0, 36461)\t1\n",
      "  (0, 28080)\t1\n",
      "  (0, 3274)\t1\n",
      "\n"
     ]
    }
   ],
   "source": [
    "# BoG con n=2\n",
    "vectorizer_bog_2 = CountVectorizer(ngram_range=(2, 2))\n",
    "bog_2_matrix = vectorizer_bog_2.fit_transform(messages)\n",
    "bog_2_features = vectorizer_bog_2.get_feature_names_out()\n",
    "\n",
    "print(len(bog_2_matrix.toarray()))\n",
    "\n",
    "\n",
    "# Ejemplos de mensajes en representación BoG (n=2)\n",
    "print(\"Ejemplos de mensajes en representación BoG (n=2):\")\n",
    "for i in range(3):\n",
    "    print(f\"Mensaje {i + 1}:\")\n",
    "    print(bog_2_matrix[i])\n",
    "    print()"
   ]
  },
  {
   "cell_type": "markdown",
   "metadata": {},
   "source": [
    "TF-IDF"
   ]
  },
  {
   "cell_type": "code",
   "execution_count": 22,
   "metadata": {},
   "outputs": [
    {
     "name": "stdout",
     "output_type": "stream",
     "text": [
      "Ejemplos de mensajes en representación TF-IDF:\n",
      "Mensaje 1:\n",
      "  (0, 8267)\t0.18238655630689804\n",
      "  (0, 1069)\t0.3264252905795869\n",
      "  (0, 3594)\t0.15318864840197105\n",
      "  (0, 7645)\t0.15566431601878158\n",
      "  (0, 2048)\t0.2757654045621182\n",
      "  (0, 1749)\t0.3116082237740733\n",
      "  (0, 4476)\t0.2757654045621182\n",
      "  (0, 8489)\t0.22080132794235655\n",
      "  (0, 3634)\t0.1803175103691124\n",
      "  (0, 1751)\t0.2757654045621182\n",
      "  (0, 4087)\t0.10720385321563428\n",
      "  (0, 5537)\t0.15618023117358304\n",
      "  (0, 1303)\t0.24415547176756056\n",
      "  (0, 2327)\t0.25279391746019725\n",
      "  (0, 5920)\t0.2553151503985779\n",
      "  (0, 4350)\t0.3264252905795869\n",
      "  (0, 8030)\t0.22998520738984352\n",
      "  (0, 3550)\t0.1481298737377147\n",
      "\n",
      "Mensaje 2:\n",
      "  (0, 5533)\t0.5465881710238072\n",
      "  (0, 8392)\t0.4316010362639011\n",
      "  (0, 4318)\t0.5236458071582338\n",
      "  (0, 4512)\t0.4082988561907181\n",
      "  (0, 5504)\t0.27211951321382544\n",
      "\n",
      "Mensaje 3:\n",
      "  (0, 77)\t0.23012628226525952\n",
      "  (0, 1156)\t0.16541257593676326\n",
      "  (0, 6242)\t0.16541257593676326\n",
      "  (0, 7933)\t0.12181446130331955\n",
      "  (0, 7230)\t0.1927133697047924\n",
      "  (0, 6190)\t0.17515550002890112\n",
      "  (0, 6297)\t0.1638246054853839\n",
      "  (0, 784)\t0.21634026759795302\n",
      "  (0, 7595)\t0.12038955909252741\n",
      "  (0, 402)\t0.2223624014303424\n",
      "  (0, 4930)\t0.15474398976567127\n",
      "  (0, 411)\t0.2223624014303424\n",
      "  (0, 7743)\t0.21634026759795302\n",
      "  (0, 3207)\t0.18031164367897576\n",
      "  (0, 2386)\t0.20047725053970955\n",
      "  (0, 3087)\t0.46025256453051905\n",
      "  (0, 8405)\t0.14511814920515034\n",
      "  (0, 7756)\t0.17800106791163278\n",
      "  (0, 2165)\t0.19055320018576333\n",
      "  (0, 8447)\t0.18669123587240305\n",
      "  (0, 2949)\t0.3527103027641593\n",
      "  (0, 3358)\t0.11301399735581102\n",
      "  (0, 4087)\t0.07917128722158312\n",
      "\n"
     ]
    }
   ],
   "source": [
    "data = pd.read_csv('spam.csv', encoding='latin-1')\n",
    "\n",
    "messages = data[\"v2\"].tolist()\n",
    "\n",
    "# TF-IDF\n",
    "vectorizer_tfidf = TfidfVectorizer()\n",
    "tfidf_matrix = vectorizer_tfidf.fit_transform(messages)\n",
    "tfidf_features = vectorizer_tfidf.get_feature_names_out()\n",
    "\n",
    "print(\"Ejemplos de mensajes en representación TF-IDF:\")\n",
    "for i in range(3):\n",
    "    print(f\"Mensaje {i + 1}:\")\n",
    "    print(tfidf_matrix[i])\n",
    "    print()"
   ]
  },
  {
   "cell_type": "markdown",
   "metadata": {},
   "source": [
    "Separación de datos"
   ]
  },
  {
   "cell_type": "code",
   "execution_count": 23,
   "metadata": {},
   "outputs": [
    {
     "name": "stdout",
     "output_type": "stream",
     "text": [
      "Tamaño del conjunto de entrenamiento: 3900\n",
      "Tamaño del conjunto de prueba: 1672\n",
      "Tamaño del conjunto de entrenamiento: 3900\n",
      "Tamaño del conjunto de prueba: 1672\n"
     ]
    }
   ],
   "source": [
    "# Dividiendo los datos en características (X) y etiquetas (y)\n",
    "X = data[\"v2\"]\n",
    "y = data[\"v1\"]\n",
    "\n",
    "# Dividiendo los datos en conjuntos de entrenamiento y prueba (70% entrenamiento, 30% prueba)\n",
    "X_train, X_test, y_train, y_test = train_test_split(X, y, test_size=0.3, random_state=42)\n",
    "\n",
    "# Imprimiendo el tamaño de los conjuntos\n",
    "print(\"Tamaño del conjunto de entrenamiento:\", len(X_train))\n",
    "print(\"Tamaño del conjunto de prueba:\", len(X_test))\n",
    "\n",
    "labels = data[\"v1\"].tolist()\n",
    "messages_train, messages_test, labels_train, labels_test = train_test_split(messages, labels, test_size=0.3, random_state=42)\n",
    "print(\"Tamaño del conjunto de entrenamiento:\", len(X_train))\n",
    "print(\"Tamaño del conjunto de prueba:\", len(X_test))"
   ]
  },
  {
   "cell_type": "markdown",
   "metadata": {},
   "source": [
    "Entrenamiento de modelos de ML"
   ]
  },
  {
   "cell_type": "code",
   "execution_count": 46,
   "metadata": {},
   "outputs": [],
   "source": [
    "# Representación BoG (n=1)\n",
    "X_train_bog_1 = messages_train\n",
    "\n",
    "# Representación BoG (n=1) para el conjunto de entrenamiento\n",
    "X_train_bog_1 = vectorizer_bog_1.transform(messages_train)\n",
    "\n",
    "# Representación BoG (n=1) para el conjunto de prueba\n",
    "X_test_bog_1 = vectorizer_bog_1.transform(X_test)\n",
    "\n",
    "# Representación BoG (n=2)\n",
    "X_train_bog_2 = messages_train\n",
    "\n",
    "# Representación BoG (n=2) para el conjunto de entrenamiento\n",
    "X_train_bog_2 = vectorizer_bog_2.transform(messages_train)\n",
    "\n",
    "# Representación BoG (n=2) para el conjunto de prueba\n",
    "X_test_bog_2 = vectorizer_bog_2.transform(X_test)\n",
    "\n",
    "# Representación TF-IDF para el conjunto de entrenamiento\n",
    "X_train_tfidf = vectorizer_tfidf.transform(messages_train)\n",
    "\n",
    "# Representación TF-IDF para el conjunto de prueba\n",
    "X_test_tfidf = vectorizer_tfidf.transform(X_test)"
   ]
  },
  {
   "cell_type": "markdown",
   "metadata": {},
   "source": [
    "Random Forest"
   ]
  },
  {
   "cell_type": "markdown",
   "metadata": {},
   "source": [
    "Representación BoG (n=1)"
   ]
  },
  {
   "cell_type": "code",
   "execution_count": 35,
   "metadata": {},
   "outputs": [
    {
     "name": "stdout",
     "output_type": "stream",
     "text": [
      "Matriz de Confusión:\n",
      "[[1453    0]\n",
      " [  44  175]]\n",
      "\n",
      "Precision: 1.0\n",
      "Accuracy: 0.9736842105263158\n",
      "Recall: 0.7990867579908676\n",
      "Curva ROC (AUC): 0.984442516977942\n"
     ]
    },
    {
     "data": {
      "image/png": "[encoded data removed]",
      "text/plain": [
       "<Figure size 640x480 with 1 Axes>"
      ]
     },
     "metadata": {},
     "output_type": "display_data"
    }
   ],
   "source": [
    "# Creando el modelo\n",
    "rf_model = RandomForestClassifier()\n",
    "rf_model.fit(X_train_bog_1, y_train)\n",
    "\n",
    "# Predicción de los datos de prueba\n",
    "y_pred = rf_model.predict(X_test_bog_1)\n",
    "\n",
    "# Calculando métricas\n",
    "conf_matrix = confusion_matrix(y_test, y_pred)\n",
    "precision = precision_score(y_test, y_pred, pos_label='spam')\n",
    "recall = recall_score(y_test, y_pred, pos_label='spam')\n",
    "probas = rf_model.predict_proba(X_test_bog_1)\n",
    "accuracy = accuracy_score(y_test, y_pred)\n",
    "fpr, tpr, _ = roc_curve(y_test, probas[:, 1], pos_label='spam')\n",
    "roc_auc = roc_auc_score(y_test, probas[:, 1])\n",
    "\n",
    "# Resultados\n",
    "print(\"Matriz de Confusión:\")\n",
    "print(conf_matrix)\n",
    "print(\"\\nPrecision:\", precision)\n",
    "print(\"Accuracy:\", accuracy)\n",
    "print(\"Recall:\", recall)\n",
    "print(\"Curva ROC (AUC):\", roc_auc)\n",
    "\n",
    "# Gráfica de la curva ROC\n",
    "plt.figure()\n",
    "plt.plot(fpr, tpr, color='darkorange', lw=2, label='ROC curve (area = %0.2f)' % roc_auc)\n",
    "plt.plot([0, 1], [0, 1], color='navy', lw=2, linestyle='--')\n",
    "plt.xlim([0.0, 1.0])\n",
    "plt.ylim([0.0, 1.05])\n",
    "plt.xlabel('False Positive Rate')\n",
    "plt.ylabel('True Positive Rate')\n",
    "plt.title('Receiver Operating Characteristic (ROC)')\n",
    "plt.legend(loc=\"lower right\")\n",
    "plt.show()"
   ]
  },
  {
   "cell_type": "markdown",
   "metadata": {},
   "source": [
    "Representación BoG (n=2)"
   ]
  },
  {
   "cell_type": "code",
   "execution_count": 33,
   "metadata": {},
   "outputs": [
    {
     "name": "stdout",
     "output_type": "stream",
     "text": [
      "Matriz de Confusión:\n",
      "[[1453    0]\n",
      " [  65  154]]\n",
      "\n",
      "Precision: 1.0\n",
      "Accuracy: 0.9611244019138756\n",
      "Recall: 0.7031963470319634\n",
      "Curva ROC (AUC): 0.9717636632757922\n"
     ]
    },
    {
     "data": {
      "image/png": "[encoded data removed]",
      "text/plain": [
       "<Figure size 640x480 with 1 Axes>"
      ]
     },
     "metadata": {},
     "output_type": "display_data"
    }
   ],
   "source": [
    "# Creando el modelo\n",
    "rf_model = RandomForestClassifier()\n",
    "rf_model.fit(X_train_bog_2, y_train)\n",
    "\n",
    "# Predicción de los datos de prueba\n",
    "y_pred = rf_model.predict(X_test_bog_2)\n",
    "\n",
    "# Calculando métricas\n",
    "conf_matrix = confusion_matrix(y_test, y_pred)\n",
    "precision = precision_score(y_test, y_pred, pos_label='spam')\n",
    "recall = recall_score(y_test, y_pred, pos_label='spam')\n",
    "accuracy = accuracy_score(y_test, y_pred)\n",
    "probas = rf_model.predict_proba(X_test_bog_2)\n",
    "fpr, tpr, _ = roc_curve(y_test, probas[:, 1], pos_label='spam')\n",
    "roc_auc = roc_auc_score(y_test, probas[:, 1])\n",
    "\n",
    "# Resultados\n",
    "print(\"Matriz de Confusión:\")\n",
    "print(conf_matrix)\n",
    "print(\"\\nPrecision:\", precision)\n",
    "print(\"Accuracy:\", accuracy)\n",
    "print(\"Recall:\", recall)\n",
    "print(\"Curva ROC (AUC):\", roc_auc)\n",
    "\n",
    "# Gráfica de la curva ROC\n",
    "plt.figure()\n",
    "plt.plot(fpr, tpr, color='darkorange', lw=2, label='ROC curve (area = %0.2f)' % roc_auc)\n",
    "plt.plot([0, 1], [0, 1], color='navy', lw=2, linestyle='--')\n",
    "plt.xlim([0.0, 1.0])\n",
    "plt.ylim([0.0, 1.05])\n",
    "plt.xlabel('False Positive Rate')\n",
    "plt.ylabel('True Positive Rate')\n",
    "plt.title('Receiver Operating Characteristic (ROC)')\n",
    "plt.legend(loc=\"lower right\")\n",
    "plt.show()"
   ]
  },
  {
   "cell_type": "markdown",
   "metadata": {},
   "source": [
    "TF-IDF"
   ]
  },
  {
   "cell_type": "code",
   "execution_count": 36,
   "metadata": {},
   "outputs": [
    {
     "name": "stdout",
     "output_type": "stream",
     "text": [
      "Matriz de Confusión (TF-IDF):\n",
      "[[1453    0]\n",
      " [  41  178]]\n",
      "\n",
      "Precision (TF-IDF): 1.0\n",
      "Recall (TF-IDF): 0.8127853881278538\n",
      "Curva ROC (AUC) (TF-IDF): 0.9806651016476695\n",
      "Accuracy (TF-IDF): 0.9754784688995215\n"
     ]
    },
    {
     "data": {
      "image/png": "[encoded data removed]",
      "text/plain": [
       "<Figure size 640x480 with 1 Axes>"
      ]
     },
     "metadata": {},
     "output_type": "display_data"
    }
   ],
   "source": [
    "# Modelo de RandomForest con TF-IDF\n",
    "rf_model_tfidf = RandomForestClassifier()\n",
    "rf_model_tfidf.fit(X_train_tfidf, y_train)\n",
    "\n",
    "# Realizando predicciones en el conjunto de prueba\n",
    "y_pred_tfidf = rf_model_tfidf.predict(X_test_tfidf)\n",
    "\n",
    "# Calculando métricas\n",
    "conf_matrix_tfidf = confusion_matrix(y_test, y_pred_tfidf)\n",
    "precision_tfidf = precision_score(y_test, y_pred_tfidf, pos_label='spam')\n",
    "recall_tfidf = recall_score(y_test, y_pred_tfidf, pos_label='spam')\n",
    "probas_tfidf = rf_model_tfidf.predict_proba(X_test_tfidf)\n",
    "fpr_tfidf, tpr_tfidf, _ = roc_curve(y_test, probas[:, 1], pos_label='spam')\n",
    "roc_auc_tfidf = roc_auc_score(y_test, probas_tfidf[:, 1])\n",
    "accuracy_tfidf = accuracy_score(y_test, y_pred_tfidf)\n",
    "\n",
    "# Resultados\n",
    "print(\"Matriz de Confusión (TF-IDF):\")\n",
    "print(conf_matrix_tfidf)\n",
    "print(\"\\nPrecision (TF-IDF):\", precision_tfidf)\n",
    "print(\"Recall (TF-IDF):\", recall_tfidf)\n",
    "print(\"Curva ROC (AUC) (TF-IDF):\", roc_auc_tfidf)\n",
    "print(\"Accuracy (TF-IDF):\", accuracy_tfidf)\n",
    "\n",
    "# Gráfica de la curva ROC\n",
    "plt.figure()\n",
    "plt.plot(fpr, tpr, color='darkorange', lw=2, label='ROC curve (area = %0.2f)' % roc_auc)\n",
    "plt.plot([0, 1], [0, 1], color='navy', lw=2, linestyle='--')\n",
    "plt.xlim([0.0, 1.0])\n",
    "plt.ylim([0.0, 1.05])\n",
    "plt.xlabel('False Positive Rate')\n",
    "plt.ylabel('True Positive Rate')\n",
    "plt.title('Receiver Operating Characteristic (ROC)')\n",
    "plt.legend(loc=\"lower right\")\n",
    "plt.show()"
   ]
  },
  {
   "cell_type": "markdown",
   "metadata": {},
   "source": [
    "Segundo modelo"
   ]
  },
  {
   "cell_type": "markdown",
   "metadata": {},
   "source": [
    "Conversiones para mayor comodidad del modelo"
   ]
  },
  {
   "cell_type": "code",
   "execution_count": 49,
   "metadata": {},
   "outputs": [],
   "source": [
    "# Convertiendo las etiquetas 'spam' a 1 y 'ham' a 0 en el conjunto de entrenamiento\n",
    "y_train_numeric = [1 if label == 'spam' else 0 for label in y_train]\n",
    "\n",
    "# Convertiendo las etiquetas 'spam' a 1 y 'ham' a 0 en el conjunto de prueba\n",
    "y_test_numeric = [1 if label == 'spam' else 0 for label in y_test]"
   ]
  },
  {
   "cell_type": "markdown",
   "metadata": {},
   "source": [
    "Representación BoG (n=1)"
   ]
  },
  {
   "cell_type": "code",
   "execution_count": 50,
   "metadata": {},
   "outputs": [
    {
     "name": "stdout",
     "output_type": "stream",
     "text": [
      "Matriz de Confusión:\n",
      "[[1452    1]\n",
      " [  44  175]]\n",
      "\n",
      "Precision: 0.9943181818181818\n",
      "Recall: 0.7990867579908676\n",
      "Curva ROC (AUC): 0.9617073163066807\n"
     ]
    },
    {
     "data": {
      "image/png": "[encoded data removed]",
      "text/plain": [
       "<Figure size 640x480 with 1 Axes>"
      ]
     },
     "metadata": {},
     "output_type": "display_data"
    }
   ],
   "source": [
    "linear_model = LinearRegression()\n",
    "\n",
    "linear_model.fit(X_train_bog_1, y_train_numeric)\n",
    "\n",
    "y_pred_linear = linear_model.predict(X_test_bog_1)\n",
    "\n",
    "y_pred_binary = (y_pred_linear >= 0.5).astype(int)\n",
    "\n",
    "conf_matrix = confusion_matrix(y_test_numeric, y_pred_binary)\n",
    "\n",
    "precision = precision_score(y_test_numeric, y_pred_binary)\n",
    "recall = recall_score(y_test_numeric, y_pred_binary)\n",
    "\n",
    "fpr, tpr, _ = roc_curve(y_test_numeric, y_pred_linear)\n",
    "roc_auc = roc_auc_score(y_test_numeric, y_pred_linear)\n",
    "\n",
    "print(\"Matriz de Confusión:\")\n",
    "print(conf_matrix)\n",
    "print(\"\\nPrecision:\", precision)\n",
    "print(\"Recall:\", recall)\n",
    "print(\"Curva ROC (AUC):\", roc_auc)\n",
    "\n",
    "# Gráfica la curva ROC\n",
    "plt.figure()\n",
    "plt.plot(fpr, tpr, color='darkorange', lw=2, label='Curva ROC (AUC = %0.2f)' % roc_auc)\n",
    "plt.plot([0, 1], [0, 1], color='navy', lw=2, linestyle='--')\n",
    "plt.xlim([0.0, 1.0])\n",
    "plt.ylim([0.0, 1.05])\n",
    "plt.xlabel('Tasa de falsos positivos')\n",
    "plt.ylabel('Tasa de verdaderos positivos')\n",
    "plt.title('Curva ROC')\n",
    "plt.legend(loc=\"lower right\")\n",
    "plt.show()"
   ]
  },
  {
   "cell_type": "markdown",
   "metadata": {},
   "source": [
    "Representación BoG (n=2)"
   ]
  },
  {
   "cell_type": "code",
   "execution_count": 51,
   "metadata": {},
   "outputs": [
    {
     "name": "stdout",
     "output_type": "stream",
     "text": [
      "Matriz de Confusión:\n",
      "[[1452    1]\n",
      " [  67  152]]\n",
      "\n",
      "Precision: 0.9934640522875817\n",
      "Recall: 0.6940639269406392\n",
      "Curva ROC (AUC): 0.9656952864016191\n"
     ]
    },
    {
     "data": {
      "image/png": "[encoded data removed]",
      "text/plain": [
       "<Figure size 640x480 with 1 Axes>"
      ]
     },
     "metadata": {},
     "output_type": "display_data"
    }
   ],
   "source": [
    "linear_model = LinearRegression()\n",
    "\n",
    "linear_model.fit(X_train_bog_2, y_train_numeric)\n",
    "\n",
    "y_pred_linear = linear_model.predict(X_test_bog_2)\n",
    "\n",
    "y_pred_binary = (y_pred_linear >= 0.5).astype(int)\n",
    "\n",
    "conf_matrix = confusion_matrix(y_test_numeric, y_pred_binary)\n",
    "\n",
    "precision = precision_score(y_test_numeric, y_pred_binary)\n",
    "recall = recall_score(y_test_numeric, y_pred_binary)\n",
    "\n",
    "fpr, tpr, _ = roc_curve(y_test_numeric, y_pred_linear)\n",
    "roc_auc = roc_auc_score(y_test_numeric, y_pred_linear)\n",
    "\n",
    "print(\"Matriz de Confusión:\")\n",
    "print(conf_matrix)\n",
    "print(\"\\nPrecision:\", precision)\n",
    "print(\"Recall:\", recall)\n",
    "print(\"Curva ROC (AUC):\", roc_auc)\n",
    "\n",
    "# Gráfica la curva ROC\n",
    "plt.figure()\n",
    "plt.plot(fpr, tpr, color='darkorange', lw=2, label='Curva ROC (AUC = %0.2f)' % roc_auc)\n",
    "plt.plot([0, 1], [0, 1], color='navy', lw=2, linestyle='--')\n",
    "plt.xlim([0.0, 1.0])\n",
    "plt.ylim([0.0, 1.05])\n",
    "plt.xlabel('Tasa de falsos positivos')\n",
    "plt.ylabel('Tasa de verdaderos positivos')\n",
    "plt.title('Curva ROC')\n",
    "plt.legend(loc=\"lower right\")\n",
    "plt.show()"
   ]
  },
  {
   "cell_type": "markdown",
   "metadata": {},
   "source": [
    "Representación TF-IDF"
   ]
  },
  {
   "cell_type": "code",
   "execution_count": 52,
   "metadata": {},
   "outputs": [
    {
     "name": "stdout",
     "output_type": "stream",
     "text": [
      "Matriz de Confusión:\n",
      "[[1449    4]\n",
      " [  43  176]]\n",
      "\n",
      "Precision: 0.9777777777777777\n",
      "Recall: 0.8036529680365296\n",
      "Curva ROC (AUC): 0.9609153789828633\n"
     ]
    },
    {
     "data": {
      "image/png": "[encoded data removed]",
      "text/plain": [
       "<Figure size 640x480 with 1 Axes>"
      ]
     },
     "metadata": {},
     "output_type": "display_data"
    }
   ],
   "source": [
    "linear_model = LinearRegression()\n",
    "\n",
    "linear_model.fit(X_train_tfidf, y_train_numeric)\n",
    "\n",
    "y_pred_linear = linear_model.predict(X_test_tfidf)\n",
    "\n",
    "y_pred_binary = (y_pred_linear >= 0.5).astype(int)\n",
    "\n",
    "conf_matrix = confusion_matrix(y_test_numeric, y_pred_binary)\n",
    "\n",
    "precision = precision_score(y_test_numeric, y_pred_binary)\n",
    "recall = recall_score(y_test_numeric, y_pred_binary)\n",
    "\n",
    "fpr, tpr, _ = roc_curve(y_test_numeric, y_pred_linear)\n",
    "roc_auc = roc_auc_score(y_test_numeric, y_pred_linear)\n",
    "\n",
    "print(\"Matriz de Confusión:\")\n",
    "print(conf_matrix)\n",
    "print(\"\\nPrecision:\", precision)\n",
    "print(\"Recall:\", recall)\n",
    "print(\"Curva ROC (AUC):\", roc_auc)\n",
    "\n",
    "# Gráfica la curva ROC\n",
    "plt.figure()\n",
    "plt.plot(fpr, tpr, color='darkorange', lw=2, label='Curva ROC (AUC = %0.2f)' % roc_auc)\n",
    "plt.plot([0, 1], [0, 1], color='navy', lw=2, linestyle='--')\n",
    "plt.xlim([0.0, 1.0])\n",
    "plt.ylim([0.0, 1.05])\n",
    "plt.xlabel('Tasa de falsos positivos')\n",
    "plt.ylabel('Tasa de verdaderos positivos')\n",
    "plt.title('Curva ROC')\n",
    "plt.legend(loc=\"lower right\")\n",
    "plt.show()"
   ]
  }
 ],
 "metadata": {
  "kernelspec": {
   "display_name": "Python 3",
   "language": "python",
   "name": "python3"
  },
  "language_info": {
   "codemirror_mode": {
    "name": "ipython",
    "version": 3
   },
   "file_extension": ".py",
   "mimetype": "text/x-python",
   "name": "python",
   "nbconvert_exporter": "python",
   "pygments_lexer": "ipython3",
   "version": "3.11.3"
  }
 },
 "nbformat": 4,
 "nbformat_minor": 2
}
